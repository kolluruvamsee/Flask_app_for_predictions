{
 "cells": [
  {
   "cell_type": "code",
   "execution_count": 1,
   "id": "f4936cf8",
   "metadata": {},
   "outputs": [
    {
     "name": "stderr",
     "output_type": "stream",
     "text": [
      "d:\\python3.8.5\\lib\\site-packages\\numpy\\_distributor_init.py:30: UserWarning: loaded more than 1 DLL from .libs:\n",
      "d:\\python3.8.5\\lib\\site-packages\\numpy\\.libs\\libopenblas.FB5AE2TYXYH2IJRDKGDGQ3XBKLKTF43H.gfortran-win_amd64.dll\n",
      "d:\\python3.8.5\\lib\\site-packages\\numpy\\.libs\\libopenblas.GK7GX5KEQ4F6UYO3P26ULGBQYHGQO7J4.gfortran-win_amd64.dll\n",
      "  warnings.warn(\"loaded more than 1 DLL from .libs:\"\n"
     ]
    }
   ],
   "source": [
    "import pandas as pd \n",
    "from pandas import Series, DataFrame\n",
    "from sklearn.model_selection import train_test_split \n",
    "from sklearn.linear_model import LogisticRegression\n",
    "from sklearn.datasets import load_iris\n",
    "import pickle"
   ]
  },
  {
   "cell_type": "code",
   "execution_count": 2,
   "id": "bf85e5cc",
   "metadata": {},
   "outputs": [],
   "source": [
    "# Reading the data\n",
    "iris = load_iris()\n",
    "X = iris[\"data\"]\n",
    "y = iris[\"target\"]"
   ]
  },
  {
   "cell_type": "code",
   "execution_count": 3,
   "id": "f8e9bc6d",
   "metadata": {},
   "outputs": [
    {
     "name": "stderr",
     "output_type": "stream",
     "text": [
      "d:\\python3.8.5\\lib\\site-packages\\sklearn\\linear_model\\_logistic.py:762: ConvergenceWarning: lbfgs failed to converge (status=1):\n",
      "STOP: TOTAL NO. of ITERATIONS REACHED LIMIT.\n",
      "\n",
      "Increase the number of iterations (max_iter) or scale the data as shown in:\n",
      "    https://scikit-learn.org/stable/modules/preprocessing.html\n",
      "Please also refer to the documentation for alternative solver options:\n",
      "    https://scikit-learn.org/stable/modules/linear_model.html#logistic-regression\n",
      "  n_iter_i = _check_optimize_result(\n"
     ]
    },
    {
     "data": {
      "text/plain": [
       "LogisticRegression()"
      ]
     },
     "execution_count": 3,
     "metadata": {},
     "output_type": "execute_result"
    }
   ],
   "source": [
    "# Training the model\n",
    "x_train,x_test,y_train,y_test = train_test_split(X,y, test_size=0.3)\n",
    "model = LogisticRegression()\n",
    "model.fit(x_train,y_train)"
   ]
  },
  {
   "cell_type": "code",
   "execution_count": 4,
   "id": "494c16f6",
   "metadata": {},
   "outputs": [
    {
     "data": {
      "text/plain": [
       "array([[6.7, 3.1, 4.7, 1.5],\n",
       "       [5.4, 3.4, 1.5, 0.4],\n",
       "       [4.7, 3.2, 1.3, 0.2],\n",
       "       [6.5, 3.2, 5.1, 2. ],\n",
       "       [7. , 3.2, 4.7, 1.4],\n",
       "       [6. , 3. , 4.8, 1.8],\n",
       "       [6.7, 3.1, 5.6, 2.4],\n",
       "       [5.8, 2.7, 5.1, 1.9],\n",
       "       [5. , 3. , 1.6, 0.2],\n",
       "       [5.1, 2.5, 3. , 1.1],\n",
       "       [6.4, 2.7, 5.3, 1.9],\n",
       "       [4.4, 3.2, 1.3, 0.2],\n",
       "       [6. , 3.4, 4.5, 1.6],\n",
       "       [5.6, 3. , 4.5, 1.5],\n",
       "       [5.5, 2.3, 4. , 1.3],\n",
       "       [5.1, 3.8, 1.5, 0.3],\n",
       "       [4.8, 3. , 1.4, 0.3],\n",
       "       [6.9, 3.1, 5.1, 2.3],\n",
       "       [7.7, 3.8, 6.7, 2.2],\n",
       "       [6.3, 2.5, 5. , 1.9],\n",
       "       [6.5, 3. , 5.5, 1.8],\n",
       "       [6.2, 2.2, 4.5, 1.5],\n",
       "       [6.7, 2.5, 5.8, 1.8],\n",
       "       [6.1, 2.8, 4.7, 1.2],\n",
       "       [5.6, 2.9, 3.6, 1.3],\n",
       "       [4.6, 3.2, 1.4, 0.2],\n",
       "       [5.1, 3.5, 1.4, 0.3],\n",
       "       [5.7, 2.8, 4.1, 1.3],\n",
       "       [5.7, 3. , 4.2, 1.2],\n",
       "       [7.2, 3.6, 6.1, 2.5],\n",
       "       [5. , 3.4, 1.6, 0.4],\n",
       "       [7.2, 3.2, 6. , 1.8],\n",
       "       [7.2, 3. , 5.8, 1.6],\n",
       "       [5.5, 2.4, 3.8, 1.1],\n",
       "       [6.2, 2.9, 4.3, 1.3],\n",
       "       [6.2, 3.4, 5.4, 2.3],\n",
       "       [5.8, 4. , 1.2, 0.2],\n",
       "       [5.8, 2.7, 4.1, 1. ],\n",
       "       [4.7, 3.2, 1.6, 0.2],\n",
       "       [5.4, 3.7, 1.5, 0.2],\n",
       "       [6.6, 2.9, 4.6, 1.3],\n",
       "       [5. , 2. , 3.5, 1. ],\n",
       "       [6.9, 3.1, 4.9, 1.5],\n",
       "       [7.6, 3. , 6.6, 2.1],\n",
       "       [5.8, 2.6, 4. , 1.2]])"
      ]
     },
     "execution_count": 4,
     "metadata": {},
     "output_type": "execute_result"
    }
   ],
   "source": [
    "x_test"
   ]
  },
  {
   "cell_type": "code",
   "execution_count": 5,
   "id": "ec1ed8de",
   "metadata": {},
   "outputs": [],
   "source": [
    "res=model.predict(x_test)"
   ]
  },
  {
   "cell_type": "code",
   "execution_count": 6,
   "id": "cc9bd1e5",
   "metadata": {},
   "outputs": [
    {
     "data": {
      "text/plain": [
       "array([2, 1, 0, 1, 0, 0, 1, 0, 0, 2, 1, 2, 0, 2, 2, 0, 1, 0, 2, 0, 1, 2,\n",
       "       0, 0, 1, 2, 0, 0, 1, 2, 1, 1, 1, 2, 2, 2, 0, 2, 2, 1, 2, 2, 2, 1,\n",
       "       1])"
      ]
     },
     "execution_count": 6,
     "metadata": {},
     "output_type": "execute_result"
    }
   ],
   "source": [
    "res"
   ]
  },
  {
   "cell_type": "code",
   "execution_count": 7,
   "id": "9a6afb70",
   "metadata": {},
   "outputs": [],
   "source": [
    "pickle.dump(model,open('model.pkl','wb'))"
   ]
  }
 ],
 "metadata": {
  "kernelspec": {
   "display_name": "Python 3 (ipykernel)",
   "language": "python",
   "name": "python3"
  },
  "language_info": {
   "codemirror_mode": {
    "name": "ipython",
    "version": 3
   },
   "file_extension": ".py",
   "mimetype": "text/x-python",
   "name": "python",
   "nbconvert_exporter": "python",
   "pygments_lexer": "ipython3",
   "version": "3.8.5"
  }
 },
 "nbformat": 4,
 "nbformat_minor": 5
}
